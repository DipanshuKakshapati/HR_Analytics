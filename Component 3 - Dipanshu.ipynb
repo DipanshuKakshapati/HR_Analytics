{
 "cells": [
  {
   "cell_type": "markdown",
   "id": "f75af2fa",
   "metadata": {},
   "source": [
    "# Identify the best source of recruitment for a tech startup, based on previous data of candidate sources and recruitment strategies"
   ]
  },
  {
   "cell_type": "markdown",
   "id": "7a33cef3",
   "metadata": {},
   "source": [
    "### Importing required libraries"
   ]
  },
  {
   "cell_type": "code",
   "execution_count": 108,
   "id": "31a4e542",
   "metadata": {},
   "outputs": [],
   "source": [
    "import numpy as np\n",
    "import pandas as pd\n",
    "import matplotlib.pyplot as plt\n",
    "import seaborn as sns"
   ]
  },
  {
   "cell_type": "markdown",
   "id": "b40c56b1",
   "metadata": {},
   "source": [
    "### Reading your data into a Dataframe in Python"
   ]
  },
  {
   "cell_type": "code",
   "execution_count": 109,
   "id": "6deb1e92",
   "metadata": {},
   "outputs": [
    {
     "data": {
      "text/html": [
       "<div>\n",
       "<style scoped>\n",
       "    .dataframe tbody tr th:only-of-type {\n",
       "        vertical-align: middle;\n",
       "    }\n",
       "\n",
       "    .dataframe tbody tr th {\n",
       "        vertical-align: top;\n",
       "    }\n",
       "\n",
       "    .dataframe thead th {\n",
       "        text-align: right;\n",
       "    }\n",
       "</style>\n",
       "<table border=\"1\" class=\"dataframe\">\n",
       "  <thead>\n",
       "    <tr style=\"text-align: right;\">\n",
       "      <th></th>\n",
       "      <th>attrition</th>\n",
       "      <th>performance_rating</th>\n",
       "      <th>sales_quota_pct</th>\n",
       "      <th>recruiting_source</th>\n",
       "    </tr>\n",
       "  </thead>\n",
       "  <tbody>\n",
       "    <tr>\n",
       "      <th>0</th>\n",
       "      <td>1</td>\n",
       "      <td>3</td>\n",
       "      <td>1.088190</td>\n",
       "      <td>Applied Online</td>\n",
       "    </tr>\n",
       "    <tr>\n",
       "      <th>1</th>\n",
       "      <td>0</td>\n",
       "      <td>3</td>\n",
       "      <td>2.394173</td>\n",
       "      <td>NaN</td>\n",
       "    </tr>\n",
       "    <tr>\n",
       "      <th>2</th>\n",
       "      <td>1</td>\n",
       "      <td>2</td>\n",
       "      <td>0.497530</td>\n",
       "      <td>Campus</td>\n",
       "    </tr>\n",
       "    <tr>\n",
       "      <th>3</th>\n",
       "      <td>0</td>\n",
       "      <td>2</td>\n",
       "      <td>2.513958</td>\n",
       "      <td>NaN</td>\n",
       "    </tr>\n",
       "    <tr>\n",
       "      <th>4</th>\n",
       "      <td>0</td>\n",
       "      <td>3</td>\n",
       "      <td>1.424789</td>\n",
       "      <td>Applied Online</td>\n",
       "    </tr>\n",
       "    <tr>\n",
       "      <th>5</th>\n",
       "      <td>1</td>\n",
       "      <td>3</td>\n",
       "      <td>0.548123</td>\n",
       "      <td>Referral</td>\n",
       "    </tr>\n",
       "    <tr>\n",
       "      <th>6</th>\n",
       "      <td>1</td>\n",
       "      <td>3</td>\n",
       "      <td>0.794213</td>\n",
       "      <td>Applied Online</td>\n",
       "    </tr>\n",
       "    <tr>\n",
       "      <th>7</th>\n",
       "      <td>0</td>\n",
       "      <td>2</td>\n",
       "      <td>1.006524</td>\n",
       "      <td>Referral</td>\n",
       "    </tr>\n",
       "    <tr>\n",
       "      <th>8</th>\n",
       "      <td>0</td>\n",
       "      <td>3</td>\n",
       "      <td>1.519917</td>\n",
       "      <td>Campus</td>\n",
       "    </tr>\n",
       "    <tr>\n",
       "      <th>9</th>\n",
       "      <td>0</td>\n",
       "      <td>3</td>\n",
       "      <td>2.073528</td>\n",
       "      <td>NaN</td>\n",
       "    </tr>\n",
       "  </tbody>\n",
       "</table>\n",
       "</div>"
      ],
      "text/plain": [
       "   attrition  performance_rating  sales_quota_pct recruiting_source\n",
       "0          1                   3         1.088190    Applied Online\n",
       "1          0                   3         2.394173               NaN\n",
       "2          1                   2         0.497530            Campus\n",
       "3          0                   2         2.513958               NaN\n",
       "4          0                   3         1.424789    Applied Online\n",
       "5          1                   3         0.548123          Referral\n",
       "6          1                   3         0.794213    Applied Online\n",
       "7          0                   2         1.006524          Referral\n",
       "8          0                   3         1.519917            Campus\n",
       "9          0                   3         2.073528               NaN"
      ]
     },
     "execution_count": 109,
     "metadata": {},
     "output_type": "execute_result"
    }
   ],
   "source": [
    "df = pd.read_csv('Recruitment_Data.csv')\n",
    "df.head(10)"
   ]
  },
  {
   "cell_type": "markdown",
   "id": "454b1ee6",
   "metadata": {},
   "source": [
    "### Observing Data in the Dataframe"
   ]
  },
  {
   "cell_type": "code",
   "execution_count": 110,
   "id": "7c62cc7a",
   "metadata": {},
   "outputs": [
    {
     "name": "stdout",
     "output_type": "stream",
     "text": [
      "<class 'pandas.core.frame.DataFrame'>\n",
      "RangeIndex: 446 entries, 0 to 445\n",
      "Data columns (total 4 columns):\n",
      " #   Column              Non-Null Count  Dtype  \n",
      "---  ------              --------------  -----  \n",
      " 0   attrition           446 non-null    int64  \n",
      " 1   performance_rating  446 non-null    int64  \n",
      " 2   sales_quota_pct     446 non-null    float64\n",
      " 3   recruiting_source   241 non-null    object \n",
      "dtypes: float64(1), int64(2), object(1)\n",
      "memory usage: 14.1+ KB\n"
     ]
    }
   ],
   "source": [
    "df.info()"
   ]
  },
  {
   "cell_type": "markdown",
   "id": "2b827245",
   "metadata": {},
   "source": [
    "voluntary departure of employees from a company for personal, professional, or any other reasons."
   ]
  },
  {
   "cell_type": "markdown",
   "id": "c4d19717",
   "metadata": {},
   "source": [
    "### Identipying Groups in the Dataframe"
   ]
  },
  {
   "cell_type": "markdown",
   "id": "f1477d80",
   "metadata": {},
   "source": [
    "##### Grouping variable 'recruiting_source' and 'attrition'"
   ]
  },
  {
   "cell_type": "code",
   "execution_count": 111,
   "id": "391cee93",
   "metadata": {},
   "outputs": [
    {
     "data": {
      "text/html": [
       "<div>\n",
       "<style scoped>\n",
       "    .dataframe tbody tr th:only-of-type {\n",
       "        vertical-align: middle;\n",
       "    }\n",
       "\n",
       "    .dataframe tbody tr th {\n",
       "        vertical-align: top;\n",
       "    }\n",
       "\n",
       "    .dataframe thead th {\n",
       "        text-align: right;\n",
       "    }\n",
       "</style>\n",
       "<table border=\"1\" class=\"dataframe\">\n",
       "  <thead>\n",
       "    <tr style=\"text-align: right;\">\n",
       "      <th></th>\n",
       "      <th>recruiting_source</th>\n",
       "      <th>attrition</th>\n",
       "    </tr>\n",
       "  </thead>\n",
       "  <tbody>\n",
       "    <tr>\n",
       "      <th>0</th>\n",
       "      <td>Applied Online</td>\n",
       "      <td>0.246154</td>\n",
       "    </tr>\n",
       "    <tr>\n",
       "      <th>1</th>\n",
       "      <td>Campus</td>\n",
       "      <td>0.285714</td>\n",
       "    </tr>\n",
       "    <tr>\n",
       "      <th>2</th>\n",
       "      <td>Referral</td>\n",
       "      <td>0.333333</td>\n",
       "    </tr>\n",
       "    <tr>\n",
       "      <th>3</th>\n",
       "      <td>Search Firm</td>\n",
       "      <td>0.500000</td>\n",
       "    </tr>\n",
       "  </tbody>\n",
       "</table>\n",
       "</div>"
      ],
      "text/plain": [
       "  recruiting_source  attrition\n",
       "0    Applied Online   0.246154\n",
       "1            Campus   0.285714\n",
       "2          Referral   0.333333\n",
       "3       Search Firm   0.500000"
      ]
     },
     "execution_count": 111,
     "metadata": {},
     "output_type": "execute_result"
    }
   ],
   "source": [
    "# Group by 'recruiting_source' and calculate the mean of 'attrition', then reset the index\n",
    "df_avg_attrition = df.groupby('recruiting_source')['attrition'].mean().reset_index()\n",
    "\n",
    "# Displaying the dataframe 'df_avg_attrition'\n",
    "df_avg_attrition"
   ]
  },
  {
   "cell_type": "markdown",
   "id": "e48c561c",
   "metadata": {},
   "source": [
    "The attrition rate for employees recruited through 'Applied Online' is about 24.62%, which is the lowest among the sources listed. This suggests that employees sourced from online applications tend to stay with the company longer than those from other sources.\n",
    "\n",
    "'Campus' recruits have an attrition rate of approximately 28.57%, indicating that nearly 29% of employees sourced from campus recruitment leave the company. This rate is higher than that of 'Applied Online' recruits but still below one-third.\n",
    "\n",
    "The 'Referral' source has an attrition rate of approximately 33.33%, which suggests that one-third of the employees sourced through referrals end up leaving the company. This is higher than both 'Applied Online' and 'Campus' sources.\n",
    "\n",
    "Employees that are hired through a 'Search Firm' have the highest attrition rate at 50%. This means that half of the employees sourced from search firms leave the company, which is notably higher than the other sources."
   ]
  },
  {
   "cell_type": "markdown",
   "id": "a873c6f2",
   "metadata": {},
   "source": [
    "##### Grouping variable 'recruiting_source' and 'sales_quota_pct'"
   ]
  },
  {
   "cell_type": "code",
   "execution_count": 113,
   "id": "ecda7a62",
   "metadata": {},
   "outputs": [
    {
     "data": {
      "text/html": [
       "<div>\n",
       "<style scoped>\n",
       "    .dataframe tbody tr th:only-of-type {\n",
       "        vertical-align: middle;\n",
       "    }\n",
       "\n",
       "    .dataframe tbody tr th {\n",
       "        vertical-align: top;\n",
       "    }\n",
       "\n",
       "    .dataframe thead th {\n",
       "        text-align: right;\n",
       "    }\n",
       "</style>\n",
       "<table border=\"1\" class=\"dataframe\">\n",
       "  <thead>\n",
       "    <tr style=\"text-align: right;\">\n",
       "      <th></th>\n",
       "      <th>recruiting_source</th>\n",
       "      <th>sales_quota_pct</th>\n",
       "    </tr>\n",
       "  </thead>\n",
       "  <tbody>\n",
       "    <tr>\n",
       "      <th>0</th>\n",
       "      <td>Applied Online</td>\n",
       "      <td>1.058590</td>\n",
       "    </tr>\n",
       "    <tr>\n",
       "      <th>1</th>\n",
       "      <td>Campus</td>\n",
       "      <td>0.908035</td>\n",
       "    </tr>\n",
       "    <tr>\n",
       "      <th>2</th>\n",
       "      <td>Referral</td>\n",
       "      <td>1.023198</td>\n",
       "    </tr>\n",
       "    <tr>\n",
       "      <th>3</th>\n",
       "      <td>Search Firm</td>\n",
       "      <td>0.886960</td>\n",
       "    </tr>\n",
       "  </tbody>\n",
       "</table>\n",
       "</div>"
      ],
      "text/plain": [
       "  recruiting_source  sales_quota_pct\n",
       "0    Applied Online         1.058590\n",
       "1            Campus         0.908035\n",
       "2          Referral         1.023198\n",
       "3       Search Firm         0.886960"
      ]
     },
     "execution_count": 113,
     "metadata": {},
     "output_type": "execute_result"
    }
   ],
   "source": [
    "# Group by 'recruiting_source' and calculate the mean of 'sales_quota_pct', then reset the index\n",
    "df_avg_sales_quota_pct = df.groupby('recruiting_source')['sales_quota_pct'].mean().reset_index()\n",
    "\n",
    "# Displaying the dataframe 'df_avg_sales_quota_pct'\n",
    "df_avg_sales_quota_pct"
   ]
  },
  {
   "cell_type": "markdown",
   "id": "0b2d5bda",
   "metadata": {},
   "source": [
    "Employees recruited through 'Applied Online' have the highest average sales quota achievement at approximately 1.059, which suggests that this group exceeds their sales targets on average, assuming that a sales quota percentage of 1.000 indicates 100% achievement.\n",
    "\n",
    "'Campus' recruits have an average close to target performance with a sales quota percentage of about 0.908. This could suggest that recent graduates or those sourced from campus recruitment events are performing slightly below the set sales targets on average.\n",
    "\n",
    "Those referred by employees or other associates ('Referral') also exceed their sales targets on average, with a sales quota percentage around 1.023.\n",
    "\n",
    "The 'Search Firm' sourced employees have the lowest average sales quota achievement, at roughly 0.887. This suggests that employees from this source, on average, do not meet the sales targets, with performance around 11.3% below the expected quota."
   ]
  },
  {
   "cell_type": "markdown",
   "id": "c10a8c6a",
   "metadata": {},
   "source": [
    "##### Grouping variable 'recruiting_source' and 'performance_rating'"
   ]
  },
  {
   "cell_type": "code",
   "execution_count": 115,
   "id": "fe94b96f",
   "metadata": {},
   "outputs": [
    {
     "data": {
      "text/html": [
       "<div>\n",
       "<style scoped>\n",
       "    .dataframe tbody tr th:only-of-type {\n",
       "        vertical-align: middle;\n",
       "    }\n",
       "\n",
       "    .dataframe tbody tr th {\n",
       "        vertical-align: top;\n",
       "    }\n",
       "\n",
       "    .dataframe thead th {\n",
       "        text-align: right;\n",
       "    }\n",
       "</style>\n",
       "<table border=\"1\" class=\"dataframe\">\n",
       "  <thead>\n",
       "    <tr style=\"text-align: right;\">\n",
       "      <th></th>\n",
       "      <th>recruiting_source</th>\n",
       "      <th>performance_rating</th>\n",
       "    </tr>\n",
       "  </thead>\n",
       "  <tbody>\n",
       "    <tr>\n",
       "      <th>0</th>\n",
       "      <td>Applied Online</td>\n",
       "      <td>2.930769</td>\n",
       "    </tr>\n",
       "    <tr>\n",
       "      <th>1</th>\n",
       "      <td>Campus</td>\n",
       "      <td>2.928571</td>\n",
       "    </tr>\n",
       "    <tr>\n",
       "      <th>2</th>\n",
       "      <td>Referral</td>\n",
       "      <td>2.844444</td>\n",
       "    </tr>\n",
       "    <tr>\n",
       "      <th>3</th>\n",
       "      <td>Search Firm</td>\n",
       "      <td>2.700000</td>\n",
       "    </tr>\n",
       "  </tbody>\n",
       "</table>\n",
       "</div>"
      ],
      "text/plain": [
       "  recruiting_source  performance_rating\n",
       "0    Applied Online            2.930769\n",
       "1            Campus            2.928571\n",
       "2          Referral            2.844444\n",
       "3       Search Firm            2.700000"
      ]
     },
     "execution_count": 115,
     "metadata": {},
     "output_type": "execute_result"
    }
   ],
   "source": [
    "# Group by 'recruiting_source' and calculate the mean of 'performance_rating', then reset the index\n",
    "df_avg_performance_rating = df.groupby('recruiting_source')['performance_rating'].mean().reset_index()\n",
    "\n",
    "# Displaying the dataframe 'df_avg_performance_rating'\n",
    "df_avg_performance_rating"
   ]
  },
  {
   "cell_type": "markdown",
   "id": "21fe8e68",
   "metadata": {},
   "source": [
    "Employees recruited through 'Applied Online' have the highest average performance rating at approximately 2.93. This suggests that on average, employees sourced online are performing closer to a rating of 3, which might indicate a performance level above satisfactory, assuming the scale is out of a maximum that is not given here (for example, 5).\n",
    "\n",
    "'Campus' recruits have a slightly lower average performance rating of around 2.93 as well, which is very close to that of the 'Applied Online' recruits, indicating a similar performance level.\n",
    "\n",
    "The 'Referral' group has an average performance rating of about 2.84, which is slightly lower than the 'Applied Online' and 'Campus' recruits. Employees brought in through referrals are performing a bit below those other two sources but still above the average of 2.7 if we assume a 5-point scale.\n",
    "\n",
    "'Search Firm' recruits have the lowest average performance rating at 2.70. While not drastically below the others, it is the lowest average score among the four sources listed, which could indicate a need to assess the quality of candidates sourced from search firms or possibly the support and development provided to these employees."
   ]
  },
  {
   "cell_type": "code",
   "execution_count": null,
   "id": "7adee8bd",
   "metadata": {},
   "outputs": [],
   "source": []
  }
 ],
 "metadata": {
  "kernelspec": {
   "display_name": "Python 3 (ipykernel)",
   "language": "python",
   "name": "python3"
  },
  "language_info": {
   "codemirror_mode": {
    "name": "ipython",
    "version": 3
   },
   "file_extension": ".py",
   "mimetype": "text/x-python",
   "name": "python",
   "nbconvert_exporter": "python",
   "pygments_lexer": "ipython3",
   "version": "3.11.5"
  }
 },
 "nbformat": 4,
 "nbformat_minor": 5
}
