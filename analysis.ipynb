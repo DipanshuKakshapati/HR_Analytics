{
 "cells": [
  {
   "cell_type": "markdown",
   "id": "f75af2fa",
   "metadata": {},
   "source": [
    "# Identify the best source of recruitment for a tech startup, based on previous data of candidate sources and recruitment strategies"
   ]
  },
  {
   "cell_type": "markdown",
   "id": "7a33cef3",
   "metadata": {},
   "source": [
    "### Importing required libraries"
   ]
  },
  {
   "cell_type": "code",
   "execution_count": 4,
   "id": "31a4e542",
   "metadata": {},
   "outputs": [],
   "source": [
    "import numpy as np\n",
    "import pandas as pd\n",
    "import matplotlib.pyplot as plt\n",
    "import seaborn as sns"
   ]
  },
  {
   "cell_type": "markdown",
   "id": "b40c56b1",
   "metadata": {},
   "source": [
    "### Reading your data into a Dataframe in Python"
   ]
  },
  {
   "cell_type": "code",
   "execution_count": 5,
   "id": "6deb1e92",
   "metadata": {},
   "outputs": [
    {
     "data": {
      "text/html": [
       "<div>\n",
       "<style scoped>\n",
       "    .dataframe tbody tr th:only-of-type {\n",
       "        vertical-align: middle;\n",
       "    }\n",
       "\n",
       "    .dataframe tbody tr th {\n",
       "        vertical-align: top;\n",
       "    }\n",
       "\n",
       "    .dataframe thead th {\n",
       "        text-align: right;\n",
       "    }\n",
       "</style>\n",
       "<table border=\"1\" class=\"dataframe\">\n",
       "  <thead>\n",
       "    <tr style=\"text-align: right;\">\n",
       "      <th></th>\n",
       "      <th>attrition</th>\n",
       "      <th>performance_rating</th>\n",
       "      <th>sales_quota_pct</th>\n",
       "      <th>recruiting_source</th>\n",
       "    </tr>\n",
       "  </thead>\n",
       "  <tbody>\n",
       "    <tr>\n",
       "      <th>0</th>\n",
       "      <td>1</td>\n",
       "      <td>3</td>\n",
       "      <td>1.088190</td>\n",
       "      <td>Applied Online</td>\n",
       "    </tr>\n",
       "    <tr>\n",
       "      <th>1</th>\n",
       "      <td>0</td>\n",
       "      <td>3</td>\n",
       "      <td>2.394173</td>\n",
       "      <td>NaN</td>\n",
       "    </tr>\n",
       "    <tr>\n",
       "      <th>2</th>\n",
       "      <td>1</td>\n",
       "      <td>2</td>\n",
       "      <td>0.497530</td>\n",
       "      <td>Campus</td>\n",
       "    </tr>\n",
       "    <tr>\n",
       "      <th>3</th>\n",
       "      <td>0</td>\n",
       "      <td>2</td>\n",
       "      <td>2.513958</td>\n",
       "      <td>NaN</td>\n",
       "    </tr>\n",
       "    <tr>\n",
       "      <th>4</th>\n",
       "      <td>0</td>\n",
       "      <td>3</td>\n",
       "      <td>1.424789</td>\n",
       "      <td>Applied Online</td>\n",
       "    </tr>\n",
       "    <tr>\n",
       "      <th>5</th>\n",
       "      <td>1</td>\n",
       "      <td>3</td>\n",
       "      <td>0.548123</td>\n",
       "      <td>Referral</td>\n",
       "    </tr>\n",
       "    <tr>\n",
       "      <th>6</th>\n",
       "      <td>1</td>\n",
       "      <td>3</td>\n",
       "      <td>0.794213</td>\n",
       "      <td>Applied Online</td>\n",
       "    </tr>\n",
       "    <tr>\n",
       "      <th>7</th>\n",
       "      <td>0</td>\n",
       "      <td>2</td>\n",
       "      <td>1.006524</td>\n",
       "      <td>Referral</td>\n",
       "    </tr>\n",
       "    <tr>\n",
       "      <th>8</th>\n",
       "      <td>0</td>\n",
       "      <td>3</td>\n",
       "      <td>1.519917</td>\n",
       "      <td>Campus</td>\n",
       "    </tr>\n",
       "    <tr>\n",
       "      <th>9</th>\n",
       "      <td>0</td>\n",
       "      <td>3</td>\n",
       "      <td>2.073528</td>\n",
       "      <td>NaN</td>\n",
       "    </tr>\n",
       "  </tbody>\n",
       "</table>\n",
       "</div>"
      ],
      "text/plain": [
       "   attrition  performance_rating  sales_quota_pct recruiting_source\n",
       "0          1                   3         1.088190    Applied Online\n",
       "1          0                   3         2.394173               NaN\n",
       "2          1                   2         0.497530            Campus\n",
       "3          0                   2         2.513958               NaN\n",
       "4          0                   3         1.424789    Applied Online\n",
       "5          1                   3         0.548123          Referral\n",
       "6          1                   3         0.794213    Applied Online\n",
       "7          0                   2         1.006524          Referral\n",
       "8          0                   3         1.519917            Campus\n",
       "9          0                   3         2.073528               NaN"
      ]
     },
     "execution_count": 5,
     "metadata": {},
     "output_type": "execute_result"
    }
   ],
   "source": [
    "#importing the csv file and storing it in the 'df' dataframe\n",
    "df = pd.read_csv('Recruitment_Data.csv')\n",
    "\n",
    "# checkin the values in the dataframe 'df'\n",
    "df.head(10)"
   ]
  },
  {
   "cell_type": "markdown",
   "id": "454b1ee6",
   "metadata": {},
   "source": [
    "### Observing Data in the Dataframe"
   ]
  },
  {
   "cell_type": "code",
   "execution_count": 6,
   "id": "7c62cc7a",
   "metadata": {},
   "outputs": [
    {
     "name": "stdout",
     "output_type": "stream",
     "text": [
      "<class 'pandas.core.frame.DataFrame'>\n",
      "RangeIndex: 446 entries, 0 to 445\n",
      "Data columns (total 4 columns):\n",
      " #   Column              Non-Null Count  Dtype  \n",
      "---  ------              --------------  -----  \n",
      " 0   attrition           446 non-null    int64  \n",
      " 1   performance_rating  446 non-null    int64  \n",
      " 2   sales_quota_pct     446 non-null    float64\n",
      " 3   recruiting_source   241 non-null    object \n",
      "dtypes: float64(1), int64(2), object(1)\n",
      "memory usage: 14.1+ KB\n"
     ]
    }
   ],
   "source": [
    "# observing the distribution and types of data in the dataframe 'df'\n",
    "df.info()"
   ]
  },
  {
   "cell_type": "markdown",
   "id": "2b827245",
   "metadata": {},
   "source": [
    "voluntary departure of employees from a company for personal, professional, or any other reasons."
   ]
  },
  {
   "cell_type": "markdown",
   "id": "c4d19717",
   "metadata": {},
   "source": [
    "### Identipying Groups in the Dataframe"
   ]
  },
  {
   "cell_type": "markdown",
   "id": "f1477d80",
   "metadata": {},
   "source": [
    "##### Grouping variable 'recruiting_source' and 'attrition'"
   ]
  },
  {
   "cell_type": "code",
   "execution_count": 7,
   "id": "391cee93",
   "metadata": {},
   "outputs": [
    {
     "data": {
      "text/html": [
       "<div>\n",
       "<style scoped>\n",
       "    .dataframe tbody tr th:only-of-type {\n",
       "        vertical-align: middle;\n",
       "    }\n",
       "\n",
       "    .dataframe tbody tr th {\n",
       "        vertical-align: top;\n",
       "    }\n",
       "\n",
       "    .dataframe thead th {\n",
       "        text-align: right;\n",
       "    }\n",
       "</style>\n",
       "<table border=\"1\" class=\"dataframe\">\n",
       "  <thead>\n",
       "    <tr style=\"text-align: right;\">\n",
       "      <th></th>\n",
       "      <th>recruiting_source</th>\n",
       "      <th>attrition</th>\n",
       "    </tr>\n",
       "  </thead>\n",
       "  <tbody>\n",
       "    <tr>\n",
       "      <th>0</th>\n",
       "      <td>Applied Online</td>\n",
       "      <td>0.246154</td>\n",
       "    </tr>\n",
       "    <tr>\n",
       "      <th>1</th>\n",
       "      <td>Campus</td>\n",
       "      <td>0.285714</td>\n",
       "    </tr>\n",
       "    <tr>\n",
       "      <th>2</th>\n",
       "      <td>Referral</td>\n",
       "      <td>0.333333</td>\n",
       "    </tr>\n",
       "    <tr>\n",
       "      <th>3</th>\n",
       "      <td>Search Firm</td>\n",
       "      <td>0.500000</td>\n",
       "    </tr>\n",
       "  </tbody>\n",
       "</table>\n",
       "</div>"
      ],
      "text/plain": [
       "  recruiting_source  attrition\n",
       "0    Applied Online   0.246154\n",
       "1            Campus   0.285714\n",
       "2          Referral   0.333333\n",
       "3       Search Firm   0.500000"
      ]
     },
     "execution_count": 7,
     "metadata": {},
     "output_type": "execute_result"
    }
   ],
   "source": [
    "# Group by 'recruiting_source' and calculate the mean of 'attrition', then reset the index\n",
    "df_avg_attrition = df.groupby('recruiting_source')['attrition'].mean().reset_index()\n",
    "\n",
    "# Displaying the dataframe 'df_avg_attrition'\n",
    "df_avg_attrition"
   ]
  },
  {
   "cell_type": "markdown",
   "id": "446854a4",
   "metadata": {},
   "source": [
    "##### Visualizing the bar plot of 'recruiting_source' and 'attrition'"
   ]
  },
  {
   "cell_type": "code",
   "execution_count": 8,
   "id": "35c047f6",
   "metadata": {},
   "outputs": [
    {
     "data": {
      "text/plain": [
       "Text(0, 0.5, 'Attrition Rate')"
      ]
     },
     "execution_count": 8,
     "metadata": {},
     "output_type": "execute_result"
    },
    {
     "data": {
      "image/png": "[encoded data removed]",
      "text/plain": [
       "<Figure size 640x480 with 1 Axes>"
      ]
     },
     "metadata": {},
     "output_type": "display_data"
    }
   ],
   "source": [
    "# Sort the DataFrame by 'attrition' in descending order (highest attrition first)\n",
    "df_avg_attrition = df_avg_attrition.sort_values('attrition', ascending=False)\n",
    "\n",
    "# Create a bar plot\n",
    "df_avg_attrition_plot = df_avg_attrition.plot(x='recruiting_source',y='attrition', kind='bar', legend='True',rot=60)\n",
    "\n",
    "# Labelling y-axis\n",
    "df_avg_attrition_plot.set_ylabel('Attrition Rate')"
   ]
  },
  {
   "cell_type": "markdown",
   "id": "e48c561c",
   "metadata": {},
   "source": [
    "The attrition rate for employees recruited through 'Applied Online' is about 24.62%, which is the lowest among the sources listed. This suggests that employees sourced from online applications tend to stay with the company longer than those from other sources.\n",
    "\n",
    "'Campus' recruits have an attrition rate of approximately 28.57%, indicating that nearly 29% of employees sourced from campus recruitment leave the company. This rate is higher than that of 'Applied Online' recruits but still below one-third.\n",
    "\n",
    "The 'Referral' source has an attrition rate of approximately 33.33%, which suggests that one-third of the employees sourced through referrals end up leaving the company. This is higher than both 'Applied Online' and 'Campus' sources.\n",
    "\n",
    "Employees that are hired through a 'Search Firm' have the highest attrition rate at 50%. This means that half of the employees sourced from search firms leave the company, which is notably higher than the other sources."
   ]
  },
  {
   "cell_type": "markdown",
   "id": "a873c6f2",
   "metadata": {},
   "source": [
    "##### Grouping variable 'recruiting_source' and 'sales_quota_pct'"
   ]
  },
  {
   "cell_type": "code",
   "execution_count": 9,
   "id": "ecda7a62",
   "metadata": {},
   "outputs": [
    {
     "data": {
      "text/html": [
       "<div>\n",
       "<style scoped>\n",
       "    .dataframe tbody tr th:only-of-type {\n",
       "        vertical-align: middle;\n",
       "    }\n",
       "\n",
       "    .dataframe tbody tr th {\n",
       "        vertical-align: top;\n",
       "    }\n",
       "\n",
       "    .dataframe thead th {\n",
       "        text-align: right;\n",
       "    }\n",
       "</style>\n",
       "<table border=\"1\" class=\"dataframe\">\n",
       "  <thead>\n",
       "    <tr style=\"text-align: right;\">\n",
       "      <th></th>\n",
       "      <th>recruiting_source</th>\n",
       "      <th>sales_quota_pct</th>\n",
       "    </tr>\n",
       "  </thead>\n",
       "  <tbody>\n",
       "    <tr>\n",
       "      <th>0</th>\n",
       "      <td>Applied Online</td>\n",
       "      <td>1.058590</td>\n",
       "    </tr>\n",
       "    <tr>\n",
       "      <th>1</th>\n",
       "      <td>Campus</td>\n",
       "      <td>0.908035</td>\n",
       "    </tr>\n",
       "    <tr>\n",
       "      <th>2</th>\n",
       "      <td>Referral</td>\n",
       "      <td>1.023198</td>\n",
       "    </tr>\n",
       "    <tr>\n",
       "      <th>3</th>\n",
       "      <td>Search Firm</td>\n",
       "      <td>0.886960</td>\n",
       "    </tr>\n",
       "  </tbody>\n",
       "</table>\n",
       "</div>"
      ],
      "text/plain": [
       "  recruiting_source  sales_quota_pct\n",
       "0    Applied Online         1.058590\n",
       "1            Campus         0.908035\n",
       "2          Referral         1.023198\n",
       "3       Search Firm         0.886960"
      ]
     },
     "execution_count": 9,
     "metadata": {},
     "output_type": "execute_result"
    }
   ],
   "source": [
    "# Group by 'recruiting_source' and calculate the mean of 'sales_quota_pct', then reset the index\n",
    "df_avg_sales_quota_pct = df.groupby('recruiting_source')['sales_quota_pct'].mean().reset_index()\n",
    "\n",
    "# Displaying the dataframe 'df_avg_sales_quota_pct'\n",
    "df_avg_sales_quota_pct"
   ]
  },
  {
   "cell_type": "markdown",
   "id": "ae3a7bd2",
   "metadata": {},
   "source": [
    "##### Visualizing the bar plot of 'recruiting_source' and 'sales_quota_pct'"
   ]
  },
  {
   "cell_type": "code",
   "execution_count": 10,
   "id": "cd8471f5",
   "metadata": {
    "scrolled": false
   },
   "outputs": [
    {
     "data": {
      "text/plain": [
       "Text(0, 0.5, 'Sales Quota Pct')"
      ]
     },
     "execution_count": 10,
     "metadata": {},
     "output_type": "execute_result"
    },
    {
     "data": {
      "image/png": "[encoded data removed]",
      "text/plain": [
       "<Figure size 640x480 with 1 Axes>"
      ]
     },
     "metadata": {},
     "output_type": "display_data"
    }
   ],
   "source": [
    "# Sort the DataFrame by 'sales_quota_pct' in descending order (highest sales_quota_pct first)\n",
    "df_avg_sales_quota_pct = df_avg_sales_quota_pct.sort_values('sales_quota_pct', ascending=False)\n",
    "\n",
    "# Create a bar plot\n",
    "df_avg_sales_quota_pct_plot = df_avg_sales_quota_pct.plot(x='recruiting_source',y='sales_quota_pct', kind='bar', legend='True',rot=60)\n",
    "\n",
    "# Labelling y-axis\n",
    "df_avg_sales_quota_pct_plot.set_ylabel('Sales Quota Pct')"
   ]
  },
  {
   "cell_type": "markdown",
   "id": "0b2d5bda",
   "metadata": {},
   "source": [
    "Employees recruited through 'Applied Online' have the highest average sales quota achievement at approximately 1.059, which suggests that this group exceeds their sales targets on average, assuming that a sales quota percentage of 1.000 indicates 100% achievement.\n",
    "\n",
    "'Campus' recruits have an average close to target performance with a sales quota percentage of about 0.908. This could suggest that recent graduates or those sourced from campus recruitment events are performing slightly below the set sales targets on average.\n",
    "\n",
    "Those referred by employees or other associates ('Referral') also exceed their sales targets on average, with a sales quota percentage around 1.023.\n",
    "\n",
    "The 'Search Firm' sourced employees have the lowest average sales quota achievement, at roughly 0.887. This suggests that employees from this source, on average, do not meet the sales targets, with performance around 11.3% below the expected quota."
   ]
  },
  {
   "cell_type": "markdown",
   "id": "c10a8c6a",
   "metadata": {},
   "source": [
    "##### Grouping variable 'recruiting_source' and 'performance_rating'"
   ]
  },
  {
   "cell_type": "code",
   "execution_count": 11,
   "id": "fe94b96f",
   "metadata": {},
   "outputs": [
    {
     "data": {
      "text/html": [
       "<div>\n",
       "<style scoped>\n",
       "    .dataframe tbody tr th:only-of-type {\n",
       "        vertical-align: middle;\n",
       "    }\n",
       "\n",
       "    .dataframe tbody tr th {\n",
       "        vertical-align: top;\n",
       "    }\n",
       "\n",
       "    .dataframe thead th {\n",
       "        text-align: right;\n",
       "    }\n",
       "</style>\n",
       "<table border=\"1\" class=\"dataframe\">\n",
       "  <thead>\n",
       "    <tr style=\"text-align: right;\">\n",
       "      <th></th>\n",
       "      <th>recruiting_source</th>\n",
       "      <th>performance_rating</th>\n",
       "    </tr>\n",
       "  </thead>\n",
       "  <tbody>\n",
       "    <tr>\n",
       "      <th>0</th>\n",
       "      <td>Applied Online</td>\n",
       "      <td>2.930769</td>\n",
       "    </tr>\n",
       "    <tr>\n",
       "      <th>1</th>\n",
       "      <td>Campus</td>\n",
       "      <td>2.928571</td>\n",
       "    </tr>\n",
       "    <tr>\n",
       "      <th>2</th>\n",
       "      <td>Referral</td>\n",
       "      <td>2.844444</td>\n",
       "    </tr>\n",
       "    <tr>\n",
       "      <th>3</th>\n",
       "      <td>Search Firm</td>\n",
       "      <td>2.700000</td>\n",
       "    </tr>\n",
       "  </tbody>\n",
       "</table>\n",
       "</div>"
      ],
      "text/plain": [
       "  recruiting_source  performance_rating\n",
       "0    Applied Online            2.930769\n",
       "1            Campus            2.928571\n",
       "2          Referral            2.844444\n",
       "3       Search Firm            2.700000"
      ]
     },
     "execution_count": 11,
     "metadata": {},
     "output_type": "execute_result"
    }
   ],
   "source": [
    "# Group by 'recruiting_source' and calculate the mean of 'performance_rating', then reset the index\n",
    "df_avg_performance_rating = df.groupby('recruiting_source')['performance_rating'].mean().reset_index()\n",
    "\n",
    "# Displaying the dataframe 'df_avg_performance_rating'\n",
    "df_avg_performance_rating"
   ]
  },
  {
   "cell_type": "markdown",
   "id": "b759d750",
   "metadata": {},
   "source": [
    "##### Visualizing the bar plot of 'recruiting_source' and 'performance_rating'"
   ]
  },
  {
   "cell_type": "code",
   "execution_count": 12,
   "id": "2906ca5f",
   "metadata": {},
   "outputs": [
    {
     "data": {
      "text/plain": [
       "Text(0, 0.5, 'Performace Rating')"
      ]
     },
     "execution_count": 12,
     "metadata": {},
     "output_type": "execute_result"
    },
    {
     "data": {
      "image/png": "[encoded data removed]",
      "text/plain": [
       "<Figure size 640x480 with 1 Axes>"
      ]
     },
     "metadata": {},
     "output_type": "display_data"
    }
   ],
   "source": [
    "# Sort the DataFrame by 'performance_rating' in descending order (highest performance_rating first)\n",
    "df_avg_performance_rating = df_avg_performance_rating.sort_values('performance_rating', ascending=False)\n",
    "\n",
    "# Create a bar plot\n",
    "df_avg_performance_rating_plot = df_avg_performance_rating.plot(x='recruiting_source',y='performance_rating', kind='bar', legend='True',rot=60)\n",
    "\n",
    "# Labelling y-axis\n",
    "df_avg_performance_rating_plot.set_ylabel('Performance Rating')"
   ]
  },
  {
   "cell_type": "markdown",
   "id": "21fe8e68",
   "metadata": {},
   "source": [
    "Employees recruited through 'Applied Online' have the highest average performance rating at approximately 2.93. This suggests that on average, employees sourced online are performing closer to a rating of 3, which might indicate a performance level above satisfactory, assuming the scale is out of a maximum that is not given here (for example, 5).\n",
    "\n",
    "'Campus' recruits have a slightly lower average performance rating of around 2.93 as well, which is very close to that of the 'Applied Online' recruits, indicating a similar performance level.\n",
    "\n",
    "The 'Referral' group has an average performance rating of about 2.84, which is slightly lower than the 'Applied Online' and 'Campus' recruits. Employees brought in through referrals are performing a bit below those other two sources but still above the average of 2.7 if we assume a 5-point scale.\n",
    "\n",
    "'Search Firm' recruits have the lowest average performance rating at 2.70. While not drastically below the others, it is the lowest average score among the four sources listed, which could indicate a need to assess the quality of candidates sourced from search firms or possibly the support and development provided to these employees."
   ]
  },
  {
   "cell_type": "markdown",
   "id": "1f0a9bd3",
   "metadata": {},
   "source": [
    "### Recommendation on the best source of recruitment to the Tech Startup based on previous data of candidate sources and recruitment strategies"
   ]
  },
  {
   "cell_type": "markdown",
   "id": "b111ddd4",
   "metadata": {},
   "source": [
    "Based on the data analysis of the attrition rates, sales quota achievements, and performance ratings of employees recruited through different sources, here are the key insights and a final recommendation for the tech startup:\n",
    "\n",
    "1. **Attrition Rate**:\n",
    "   - The lowest attrition rate is observed in employees recruited through 'Applied Online' at 24.62%. This indicates a higher tendency for these employees to stay longer with the company compared to those from other sources.\n",
    "   - 'Campus' recruitment and 'Referral' methods show higher attrition rates than 'Applied Online', with 'Search Firm' recruits having the highest attrition rate at 50%.\n",
    "\n",
    "2. **Sales Quota Achievement**:\n",
    "   - Employees sourced from 'Applied Online' not only stay longer but also exceed their sales targets with the highest average sales quota achievement at 1.059.\n",
    "   - 'Campus' recruits and those from 'Referrals' also perform well, albeit slightly below 'Applied Online' recruits. 'Search Firm' sourced employees have the lowest sales performance.\n",
    "\n",
    "3. **Performance Rating**:\n",
    "   - The 'Applied Online' source yields employees with the highest average performance rating, closely followed by 'Campus' recruits. Both groups show a commendable performance level.\n",
    "   - 'Referral' recruits have a slightly lower performance rating, with 'Search Firm' recruits having the lowest average performance rating among the sources.\n",
    "\n",
    "**Final Recommendation**:\n",
    "\n",
    "From the analysis, it is recommended that the tech startup prioritize **'Applied Online'** as their primary recruitment source. This recommendation is based on the lower attrition rate, higher sales quota achievement, and superior performance ratings associated with candidates sourced from online applications.\n",
    "\n",
    "While 'Campus' and 'Referral' sources also present valuable recruits, particularly for certain roles or when diversifying recruitment strategies, they should be considered secondary to the 'Applied Online' method. The 'Search Firm' source, due to its high attrition and lower performance metrics, should be reevaluated to ensure that candidates sourced this way are a good fit for the company's culture and expectations."
   ]
  },
  {
   "cell_type": "code",
   "execution_count": null,
   "id": "afef7acc",
   "metadata": {},
   "outputs": [],
   "source": []
  }
 ],
 "metadata": {
  "kernelspec": {
   "display_name": "Python 3 (ipykernel)",
   "language": "python",
   "name": "python3"
  },
  "language_info": {
   "codemirror_mode": {
    "name": "ipython",
    "version": 3
   },
   "file_extension": ".py",
   "mimetype": "text/x-python",
   "name": "python",
   "nbconvert_exporter": "python",
   "pygments_lexer": "ipython3",
   "version": "3.11.5"
  }
 },
 "nbformat": 4,
 "nbformat_minor": 5
}
